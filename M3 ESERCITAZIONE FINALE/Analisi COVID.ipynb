{
 "cells": [
  {
   "cell_type": "markdown",
   "id": "225054d2-5caa-4832-b440-6ce88cc6be44",
   "metadata": {},
   "source": [
    "# Esame finale"
   ]
  },
  {
   "cell_type": "markdown",
   "id": "96999c07-b85c-45be-9ade-2db1f542477c",
   "metadata": {},
   "source": [
    "Il dataset è preso dalla [pagina](https://github.com/owid/covid-19-data/tree/master/public/data)\n",
    "Download our complete COVID-19 dataset:\n",
    "[CSV](https://covid.ourworldindata.org/data/owid-covid-data.csv)"
   ]
  },
  {
   "cell_type": "code",
   "execution_count": 1,
   "id": "2985920f-dc3c-499f-a6c4-af3eb9da99b0",
   "metadata": {},
   "outputs": [
    {
     "name": "stdout",
     "output_type": "stream",
     "text": [
      "C:\\Users\\Carlo\\EPICODE\\Lezioni\n"
     ]
    },
    {
     "ename": "FileNotFoundError",
     "evalue": "[Errno 2] No such file or directory: 'covid.csv'",
     "output_type": "error",
     "traceback": [
      "\u001b[1;31m---------------------------------------------------------------------------\u001b[0m",
      "\u001b[1;31mFileNotFoundError\u001b[0m                         Traceback (most recent call last)",
      "Cell \u001b[1;32mIn[1], line 16\u001b[0m\n\u001b[0;32m     14\u001b[0m \u001b[38;5;66;03m#'''\u001b[39;00m\n\u001b[0;32m     15\u001b[0m \u001b[38;5;28;01mimport\u001b[39;00m \u001b[38;5;21;01mpandas\u001b[39;00m \u001b[38;5;28;01mas\u001b[39;00m \u001b[38;5;21;01mpd\u001b[39;00m\n\u001b[1;32m---> 16\u001b[0m db \u001b[38;5;241m=\u001b[39m pd\u001b[38;5;241m.\u001b[39mread_csv(\u001b[38;5;124m'\u001b[39m\u001b[38;5;124mcovid.csv\u001b[39m\u001b[38;5;124m'\u001b[39m)\n\u001b[0;32m     18\u001b[0m \u001b[38;5;66;03m# Svolgimento punto 1\u001b[39;00m\n\u001b[0;32m     19\u001b[0m display(db\u001b[38;5;241m.\u001b[39mshape)\n",
      "File \u001b[1;32mC:\\ProgramData\\anaconda3\\Lib\\site-packages\\pandas\\io\\parsers\\readers.py:1026\u001b[0m, in \u001b[0;36mread_csv\u001b[1;34m(filepath_or_buffer, sep, delimiter, header, names, index_col, usecols, dtype, engine, converters, true_values, false_values, skipinitialspace, skiprows, skipfooter, nrows, na_values, keep_default_na, na_filter, verbose, skip_blank_lines, parse_dates, infer_datetime_format, keep_date_col, date_parser, date_format, dayfirst, cache_dates, iterator, chunksize, compression, thousands, decimal, lineterminator, quotechar, quoting, doublequote, escapechar, comment, encoding, encoding_errors, dialect, on_bad_lines, delim_whitespace, low_memory, memory_map, float_precision, storage_options, dtype_backend)\u001b[0m\n\u001b[0;32m   1013\u001b[0m kwds_defaults \u001b[38;5;241m=\u001b[39m _refine_defaults_read(\n\u001b[0;32m   1014\u001b[0m     dialect,\n\u001b[0;32m   1015\u001b[0m     delimiter,\n\u001b[1;32m   (...)\u001b[0m\n\u001b[0;32m   1022\u001b[0m     dtype_backend\u001b[38;5;241m=\u001b[39mdtype_backend,\n\u001b[0;32m   1023\u001b[0m )\n\u001b[0;32m   1024\u001b[0m kwds\u001b[38;5;241m.\u001b[39mupdate(kwds_defaults)\n\u001b[1;32m-> 1026\u001b[0m \u001b[38;5;28;01mreturn\u001b[39;00m _read(filepath_or_buffer, kwds)\n",
      "File \u001b[1;32mC:\\ProgramData\\anaconda3\\Lib\\site-packages\\pandas\\io\\parsers\\readers.py:620\u001b[0m, in \u001b[0;36m_read\u001b[1;34m(filepath_or_buffer, kwds)\u001b[0m\n\u001b[0;32m    617\u001b[0m _validate_names(kwds\u001b[38;5;241m.\u001b[39mget(\u001b[38;5;124m\"\u001b[39m\u001b[38;5;124mnames\u001b[39m\u001b[38;5;124m\"\u001b[39m, \u001b[38;5;28;01mNone\u001b[39;00m))\n\u001b[0;32m    619\u001b[0m \u001b[38;5;66;03m# Create the parser.\u001b[39;00m\n\u001b[1;32m--> 620\u001b[0m parser \u001b[38;5;241m=\u001b[39m TextFileReader(filepath_or_buffer, \u001b[38;5;241m*\u001b[39m\u001b[38;5;241m*\u001b[39mkwds)\n\u001b[0;32m    622\u001b[0m \u001b[38;5;28;01mif\u001b[39;00m chunksize \u001b[38;5;129;01mor\u001b[39;00m iterator:\n\u001b[0;32m    623\u001b[0m     \u001b[38;5;28;01mreturn\u001b[39;00m parser\n",
      "File \u001b[1;32mC:\\ProgramData\\anaconda3\\Lib\\site-packages\\pandas\\io\\parsers\\readers.py:1620\u001b[0m, in \u001b[0;36mTextFileReader.__init__\u001b[1;34m(self, f, engine, **kwds)\u001b[0m\n\u001b[0;32m   1617\u001b[0m     \u001b[38;5;28mself\u001b[39m\u001b[38;5;241m.\u001b[39moptions[\u001b[38;5;124m\"\u001b[39m\u001b[38;5;124mhas_index_names\u001b[39m\u001b[38;5;124m\"\u001b[39m] \u001b[38;5;241m=\u001b[39m kwds[\u001b[38;5;124m\"\u001b[39m\u001b[38;5;124mhas_index_names\u001b[39m\u001b[38;5;124m\"\u001b[39m]\n\u001b[0;32m   1619\u001b[0m \u001b[38;5;28mself\u001b[39m\u001b[38;5;241m.\u001b[39mhandles: IOHandles \u001b[38;5;241m|\u001b[39m \u001b[38;5;28;01mNone\u001b[39;00m \u001b[38;5;241m=\u001b[39m \u001b[38;5;28;01mNone\u001b[39;00m\n\u001b[1;32m-> 1620\u001b[0m \u001b[38;5;28mself\u001b[39m\u001b[38;5;241m.\u001b[39m_engine \u001b[38;5;241m=\u001b[39m \u001b[38;5;28mself\u001b[39m\u001b[38;5;241m.\u001b[39m_make_engine(f, \u001b[38;5;28mself\u001b[39m\u001b[38;5;241m.\u001b[39mengine)\n",
      "File \u001b[1;32mC:\\ProgramData\\anaconda3\\Lib\\site-packages\\pandas\\io\\parsers\\readers.py:1880\u001b[0m, in \u001b[0;36mTextFileReader._make_engine\u001b[1;34m(self, f, engine)\u001b[0m\n\u001b[0;32m   1878\u001b[0m     \u001b[38;5;28;01mif\u001b[39;00m \u001b[38;5;124m\"\u001b[39m\u001b[38;5;124mb\u001b[39m\u001b[38;5;124m\"\u001b[39m \u001b[38;5;129;01mnot\u001b[39;00m \u001b[38;5;129;01min\u001b[39;00m mode:\n\u001b[0;32m   1879\u001b[0m         mode \u001b[38;5;241m+\u001b[39m\u001b[38;5;241m=\u001b[39m \u001b[38;5;124m\"\u001b[39m\u001b[38;5;124mb\u001b[39m\u001b[38;5;124m\"\u001b[39m\n\u001b[1;32m-> 1880\u001b[0m \u001b[38;5;28mself\u001b[39m\u001b[38;5;241m.\u001b[39mhandles \u001b[38;5;241m=\u001b[39m get_handle(\n\u001b[0;32m   1881\u001b[0m     f,\n\u001b[0;32m   1882\u001b[0m     mode,\n\u001b[0;32m   1883\u001b[0m     encoding\u001b[38;5;241m=\u001b[39m\u001b[38;5;28mself\u001b[39m\u001b[38;5;241m.\u001b[39moptions\u001b[38;5;241m.\u001b[39mget(\u001b[38;5;124m\"\u001b[39m\u001b[38;5;124mencoding\u001b[39m\u001b[38;5;124m\"\u001b[39m, \u001b[38;5;28;01mNone\u001b[39;00m),\n\u001b[0;32m   1884\u001b[0m     compression\u001b[38;5;241m=\u001b[39m\u001b[38;5;28mself\u001b[39m\u001b[38;5;241m.\u001b[39moptions\u001b[38;5;241m.\u001b[39mget(\u001b[38;5;124m\"\u001b[39m\u001b[38;5;124mcompression\u001b[39m\u001b[38;5;124m\"\u001b[39m, \u001b[38;5;28;01mNone\u001b[39;00m),\n\u001b[0;32m   1885\u001b[0m     memory_map\u001b[38;5;241m=\u001b[39m\u001b[38;5;28mself\u001b[39m\u001b[38;5;241m.\u001b[39moptions\u001b[38;5;241m.\u001b[39mget(\u001b[38;5;124m\"\u001b[39m\u001b[38;5;124mmemory_map\u001b[39m\u001b[38;5;124m\"\u001b[39m, \u001b[38;5;28;01mFalse\u001b[39;00m),\n\u001b[0;32m   1886\u001b[0m     is_text\u001b[38;5;241m=\u001b[39mis_text,\n\u001b[0;32m   1887\u001b[0m     errors\u001b[38;5;241m=\u001b[39m\u001b[38;5;28mself\u001b[39m\u001b[38;5;241m.\u001b[39moptions\u001b[38;5;241m.\u001b[39mget(\u001b[38;5;124m\"\u001b[39m\u001b[38;5;124mencoding_errors\u001b[39m\u001b[38;5;124m\"\u001b[39m, \u001b[38;5;124m\"\u001b[39m\u001b[38;5;124mstrict\u001b[39m\u001b[38;5;124m\"\u001b[39m),\n\u001b[0;32m   1888\u001b[0m     storage_options\u001b[38;5;241m=\u001b[39m\u001b[38;5;28mself\u001b[39m\u001b[38;5;241m.\u001b[39moptions\u001b[38;5;241m.\u001b[39mget(\u001b[38;5;124m\"\u001b[39m\u001b[38;5;124mstorage_options\u001b[39m\u001b[38;5;124m\"\u001b[39m, \u001b[38;5;28;01mNone\u001b[39;00m),\n\u001b[0;32m   1889\u001b[0m )\n\u001b[0;32m   1890\u001b[0m \u001b[38;5;28;01massert\u001b[39;00m \u001b[38;5;28mself\u001b[39m\u001b[38;5;241m.\u001b[39mhandles \u001b[38;5;129;01mis\u001b[39;00m \u001b[38;5;129;01mnot\u001b[39;00m \u001b[38;5;28;01mNone\u001b[39;00m\n\u001b[0;32m   1891\u001b[0m f \u001b[38;5;241m=\u001b[39m \u001b[38;5;28mself\u001b[39m\u001b[38;5;241m.\u001b[39mhandles\u001b[38;5;241m.\u001b[39mhandle\n",
      "File \u001b[1;32mC:\\ProgramData\\anaconda3\\Lib\\site-packages\\pandas\\io\\common.py:873\u001b[0m, in \u001b[0;36mget_handle\u001b[1;34m(path_or_buf, mode, encoding, compression, memory_map, is_text, errors, storage_options)\u001b[0m\n\u001b[0;32m    868\u001b[0m \u001b[38;5;28;01melif\u001b[39;00m \u001b[38;5;28misinstance\u001b[39m(handle, \u001b[38;5;28mstr\u001b[39m):\n\u001b[0;32m    869\u001b[0m     \u001b[38;5;66;03m# Check whether the filename is to be opened in binary mode.\u001b[39;00m\n\u001b[0;32m    870\u001b[0m     \u001b[38;5;66;03m# Binary mode does not support 'encoding' and 'newline'.\u001b[39;00m\n\u001b[0;32m    871\u001b[0m     \u001b[38;5;28;01mif\u001b[39;00m ioargs\u001b[38;5;241m.\u001b[39mencoding \u001b[38;5;129;01mand\u001b[39;00m \u001b[38;5;124m\"\u001b[39m\u001b[38;5;124mb\u001b[39m\u001b[38;5;124m\"\u001b[39m \u001b[38;5;129;01mnot\u001b[39;00m \u001b[38;5;129;01min\u001b[39;00m ioargs\u001b[38;5;241m.\u001b[39mmode:\n\u001b[0;32m    872\u001b[0m         \u001b[38;5;66;03m# Encoding\u001b[39;00m\n\u001b[1;32m--> 873\u001b[0m         handle \u001b[38;5;241m=\u001b[39m \u001b[38;5;28mopen\u001b[39m(\n\u001b[0;32m    874\u001b[0m             handle,\n\u001b[0;32m    875\u001b[0m             ioargs\u001b[38;5;241m.\u001b[39mmode,\n\u001b[0;32m    876\u001b[0m             encoding\u001b[38;5;241m=\u001b[39mioargs\u001b[38;5;241m.\u001b[39mencoding,\n\u001b[0;32m    877\u001b[0m             errors\u001b[38;5;241m=\u001b[39merrors,\n\u001b[0;32m    878\u001b[0m             newline\u001b[38;5;241m=\u001b[39m\u001b[38;5;124m\"\u001b[39m\u001b[38;5;124m\"\u001b[39m,\n\u001b[0;32m    879\u001b[0m         )\n\u001b[0;32m    880\u001b[0m     \u001b[38;5;28;01melse\u001b[39;00m:\n\u001b[0;32m    881\u001b[0m         \u001b[38;5;66;03m# Binary mode\u001b[39;00m\n\u001b[0;32m    882\u001b[0m         handle \u001b[38;5;241m=\u001b[39m \u001b[38;5;28mopen\u001b[39m(handle, ioargs\u001b[38;5;241m.\u001b[39mmode)\n",
      "\u001b[1;31mFileNotFoundError\u001b[0m: [Errno 2] No such file or directory: 'covid.csv'"
     ]
    }
   ],
   "source": [
    "# Creazione variabile contenente il csv\n",
    "import pandas as pd\n",
    "db = pd.read_csv('covid.csv')\n",
    "\n",
    "# Svolgimento punto 1\n",
    "display(db.shape)\n",
    "db.info()"
   ]
  },
  {
   "cell_type": "markdown",
   "id": "8f9179d8-3f56-4438-8acb-b0fac8df09cd",
   "metadata": {},
   "source": [
    "<span style=\"color: green;\">\n",
    "    \n",
    "- [x] Esercizio 1</span>"
   ]
  },
  {
   "cell_type": "code",
   "execution_count": null,
   "id": "6ea8e0c8-6be8-477f-b0f8-380ae249c626",
   "metadata": {},
   "outputs": [],
   "source": [
    "# Setup iniziale\n",
    "import humanize # Per una migliore lettura del numero\n",
    "def leggi_numero_int(x):\n",
    "    try:\n",
    "        return humanize.intcomma(int(x))\n",
    "    except:\n",
    "        return ''\n",
    "\n",
    "# Setup filtri\n",
    "filtro_world = {'World'}\n",
    "filtro_continenti = {'Africa','Asia','Europe','North America','Oceania','South America'}\n",
    "\n",
    "# Calcolo casi totali nel mondo\n",
    "db_world = db[db['location'].isin(filtro_world)]\n",
    "tot_casi = db_world['total_cases'].max()\n",
    "\n",
    "# Svolgimento punto 2\n",
    "db_continenti = db[db['location'].isin(filtro_continenti)]\n",
    "visualizza = db_continenti.groupby('location')['total_cases'].max().reset_index()\n",
    "visualizza['Percentuali'] = visualizza['total_cases'] / tot_casi * 100\n",
    "\n",
    "# Processi data visualisation \n",
    "visualizza['total_cases'] = visualizza['total_cases'].apply(leggi_numero_int)\n",
    "visualizza['Percentuali'] = pd.Series.round(visualizza['Percentuali'], 2)\n",
    "visualizza['Percentuali'] = [f'{x} %' for x in visualizza['Percentuali']]\n",
    "\n",
    "visualizza = visualizza.rename(columns={\n",
    "    'location': 'Continenti',\n",
    "    'total_cases': 'Casi Totali',\n",
    "}).set_index('Continenti')\n",
    "\n",
    "visualizza"
   ]
  },
  {
   "cell_type": "markdown",
   "id": "c4156150-da16-45db-b611-390fda07c568",
   "metadata": {},
   "source": [
    "<span style=\"color: green;\">\n",
    "\n",
    "- [x] Esercizio 2</span>"
   ]
  },
  {
   "cell_type": "code",
   "execution_count": null,
   "id": "cbca6902-8b9b-465d-b636-5ec896f4533f",
   "metadata": {},
   "outputs": [],
   "source": [
    "# Setup iniziale\n",
    "import matplotlib.pyplot as plt\n",
    "import matplotlib.ticker as ticker # Usato per facilitare la visualizzazione del valore per l'asse y\n",
    "\n",
    "def format_tick_M_dec(x, pos=None):  # pos è la posizione del valore\n",
    "    return f'{x / 1_000_000:.1f}M' # con decimale\n",
    "\n",
    "def format_tick_K(x, pos=None):  # pos è la posizione del valore\n",
    "    return f'{x / 1_000:.0f}K'\n",
    "\n",
    "s_mese = [\n",
    "    ['gennaio', 'january', '1', '01'],\n",
    "    ['febbraio', 'february', '2', '02'],\n",
    "    ['marzo', 'march', '3', '03'],\n",
    "    ['aprile', 'april', '4', '04'],\n",
    "    ['maggio', 'may', '5', '05'],\n",
    "    ['giugno', 'june', '6', '06'],\n",
    "    ['luglio', 'july', '7', '07'],\n",
    "    ['agosto', 'august', '8', '08'],\n",
    "    ['settembre', 'september', '9', '09'],\n",
    "    ['ottobre', 'october', '10'],\n",
    "    ['novembre', 'november', '11'],\n",
    "    ['dicembre', 'december', '12']\n",
    "]\n",
    "\n",
    "def seleziona_mese():\n",
    "    x = input('Scrivi il mese da visualizare:').lower() # Si consiglia di scrivere almeno 3 lettere per sicurezza\n",
    "    x = x[:3]\n",
    "    if x != '0':\n",
    "        for mes in s_mese:\n",
    "            for m in mes:\n",
    "                if m.startswith(x):\n",
    "                    return mes[2]\n",
    "    return seleziona_mese()\n",
    "\n",
    "# Setup filtri\n",
    "filtro_paesi = {'Italy'}\n",
    "filtro_anni = {2022}\n",
    "filtro = [0] # Filtro per togliere i giorni che non hanno misurazione\n",
    "\n",
    "# Filtro\n",
    "visualizza = db[db['location'].isin(filtro_paesi)].copy()\n",
    "visualizza['date'] = pd.to_datetime(visualizza['date'])\n",
    "visualizza = visualizza[visualizza['date'].dt.year.isin(filtro_anni)]\n",
    "visualizza = visualizza[visualizza['new_cases'] != 0]\n",
    "\n",
    "# Svolgimento punto 3\n",
    "plt.plot(visualizza['date'], visualizza['new_cases'])\n",
    "\n",
    "# Setup grafico\n",
    "plt.xlabel('Tempo')\n",
    "plt.ylabel('Nuovi casi')\n",
    "plt.title('Andamento settimanale dei nuovi casi COVID in Italia nel 2022')\n",
    "plt.xticks(rotation=60)\n",
    "plt.gca().yaxis.set_major_formatter(ticker.FuncFormatter(format_tick_M_dec)) # Modifica alla formattazione dell'asse y\n",
    "plt.tight_layout() # Regola in modo automatico la spaziatura\n",
    "\n",
    "# Visualizzazione grafico\n",
    "plt.show()\n",
    "\n",
    "# Secondo grafico\n",
    "mese = seleziona_mese()\n",
    "visualizza = visualizza[visualizza['date'].dt.month == int(mese)]\n",
    "visualizza['date'] = visualizza['date'].dt.strftime('%Y-%m-%d')\n",
    "\n",
    "fig, asse_x = plt.subplots() # Accedo all'asse x\n",
    "grafico = asse_x.barh(visualizza['date'], visualizza['new_cases'])\n",
    "asse_x.bar_label(grafico, fmt=leggi_numero_int, label_type='center') # Aggiunge i valori numerici al centro di ogni barra\n",
    "mese = s_mese[int(mese)-1][0].capitalize()\n",
    "\n",
    "# Setup grafico\n",
    "plt.xlabel('Nuovi casi')\n",
    "plt.ylabel('Date')\n",
    "plt.title(f'Andamento settimanale dei nuovi casi COVID in Italia nel mese {mese}')\n",
    "plt.gca().xaxis.set_major_formatter(ticker.FuncFormatter(format_tick_K)) # Modifica alla formattazione dell'asse x\n",
    "plt.tight_layout() # Regola in modo automatico la spaziatura\n",
    "\n",
    "# Visualizzazione grafico\n",
    "plt.show()"
   ]
  },
  {
   "cell_type": "markdown",
   "id": "c609075f-46f1-450b-9d4b-e06f171f41dd",
   "metadata": {},
   "source": [
    "<span style=\"color: green;\">\n",
    "\n",
    "- [x] Esercizio 3</span>"
   ]
  },
  {
   "cell_type": "code",
   "execution_count": null,
   "id": "56bfc427-5599-45d0-8f87-14c5cebffc2c",
   "metadata": {},
   "outputs": [],
   "source": [
    "# Setup iniziale\n",
    "import seaborn as sns\n",
    "\n",
    "# Setup filtri\n",
    "filtro_paesi = {'Italy', 'Germany', 'France'}\n",
    "filtro_date = ['2022-05-01','2023-04-30']\n",
    "\n",
    "# Filtro\n",
    "visualizza = db[db['location'].isin(filtro_paesi)].copy()\n",
    "visualizza['date'] = pd.to_datetime(visualizza['date'])\n",
    "date = pd.to_datetime(filtro_date)\n",
    "visualizza = visualizza[(visualizza['date'] >= date[0]) & (visualizza['date'] <= date[1])]\n",
    "\n",
    "# Svolgimento punto 4\n",
    "sns.boxplot(data=visualizza, x='location', y='icu_patients')\n",
    "date = date.strftime('%d/%m/%Y')\n",
    "\n",
    "# Setup grafico\n",
    "plt.xlabel('Paesi')\n",
    "plt.ylabel('Pazienti in terapia intensiva')\n",
    "plt.title(f'Distribuzione pazienti COVID in terapia intensiva dal {date[0]} al {date[1]}')\n",
    "plt.tight_layout() # Regola in modo automatico la spaziatura\n",
    "\n",
    "# Visualizzazione grafico\n",
    "plt.show()"
   ]
  },
  {
   "cell_type": "markdown",
   "id": "d5140cff-a83c-4e9d-ad4b-bbcba3fba88a",
   "metadata": {},
   "source": [
    "Nel periodo analizzato in ogni settimana, il numero di pazienti in terapia intensiva per l'Italia è stato inferiore ai valori misurati in una qualsiasi settimana per la Francia e la Germania. Si rileva inoltre che i valori medi nel periodo per Francia e Germania sono molto vicini ma la variabilità della Germania è superiore.\n",
    "\n",
    "Nota: Per i dati 'icu_patients' della Francia manca il mese di aprile\n",
    "\n",
    "<span style=\"color: green;\">\n",
    "\n",
    "- [x] Esercizio 4</span>"
   ]
  },
  {
   "cell_type": "code",
   "execution_count": null,
   "id": "ffcbdd5a-0fc6-4549-bce9-656c4d547fb2",
   "metadata": {},
   "outputs": [],
   "source": [
    "# Setup filtri\n",
    "filtro_paesi = {'Italy', 'Germany', 'France','Spain'}\n",
    "filtro_anni = {2021}\n",
    "\n",
    "# Filtro\n",
    "visualizza = db[db['location'].isin(filtro_paesi)].copy()\n",
    "visualizza['date'] = pd.to_datetime(visualizza['date'])\n",
    "visualizza = visualizza[visualizza['date'].dt.year.isin(filtro_anni)]\n",
    "visualizza = visualizza.groupby('location')['hosp_patients'].sum().reset_index()\n",
    "\n",
    "# Svolgimento punto 5\n",
    "fig, asse_x = plt.subplots() # Accedo all'asse x\n",
    "grafico = asse_x.barh(visualizza['location'], visualizza['hosp_patients'])\n",
    "asse_x.bar_label(grafico, fmt=leggi_numero_int, label_type='center') # Aggiunge i valori numerici al centro di ogni barra\n",
    "\n",
    "# Setup grafico\n",
    "plt.xlabel('Pazienti ospitalizzati')\n",
    "plt.ylabel('Paesi')\n",
    "plt.title('Totale pazienti COVID ospitalizzati per paese nel 2021')\n",
    "plt.gca().xaxis.set_major_formatter(ticker.FuncFormatter(format_tick_M_dec)) # Modifica alla formattazione dell'asse x\n",
    "plt.tight_layout() # Regola in modo automatico la spaziatura\n",
    "\n",
    "# Visualizzazione grafico\n",
    "plt.show()"
   ]
  },
  {
   "cell_type": "markdown",
   "id": "cf5ece45-cd80-4aa6-b946-ce988c71ff23",
   "metadata": {},
   "source": [
    "Dall'analisi effettuata si è rilevato che nel dataset sorgente non sono presenti i dati della Germania.\n",
    "Per integrare i dati relativi alla Germania, si è ananizzato il dataset\n",
    "[covid-hospitalizations.csv](https://github.com/owid/covid-19-data/blob/master/public/data/hospitalizations/covid-hospitalizations.csv)\n",
    ".\n",
    "Su tale dataset sono stati rilevati solo dati parziali fino al 27.06.2021. Per poter stimare il valore dell'intero anno si propongono le seguenti modalità:\n",
    "1) **Applicazione del valore percentuale del paese con numeriche più vicine.**\n",
    "\n",
    "   Si identifica quale paese ha le numeriche più vicine a quelle della Germania nel periodo 01.01.2021 - 27.06.2021 e si calcola quale è la percentuale tra tale valore e il totale annuo del paese.\n",
    "\n",
    "   Si divide il valore nel periodo 01.01.2021 - 27.06.2021 in Germania per tale percentuale.\n",
    "\n",
    "3) **Applicazione del valore percentuale medio degli altri paesi.**\n",
    "\n",
    "   Si misurano i valori rilevati negli altri paesi nel periodo 01.01.2021 - 27.06.2021 e si calcola quale è la percentuale tra tale valore e il totale annuo dei paesi.\n",
    "\n",
    "   Si divide il valore nel periodo 01.01.2021 - 27.06.2021 in Germania per tale percentuale.\n",
    "\n",
    "<span style=\"color: green;\">\n",
    "\n",
    "- [x] Esercizio 5</span>"
   ]
  }
 ],
 "metadata": {
  "kernelspec": {
   "display_name": "Python 3 (ipykernel)",
   "language": "python",
   "name": "python3"
  },
  "language_info": {
   "codemirror_mode": {
    "name": "ipython",
    "version": 3
   },
   "file_extension": ".py",
   "mimetype": "text/x-python",
   "name": "python",
   "nbconvert_exporter": "python",
   "pygments_lexer": "ipython3",
   "version": "3.12.7"
  }
 },
 "nbformat": 4,
 "nbformat_minor": 5
}
